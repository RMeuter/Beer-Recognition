{
 "cells": [
  {
   "cell_type": "code",
   "execution_count": 1,
   "metadata": {},
   "outputs": [],
   "source": [
    "import requests\n",
    "import pandas as pd\n",
    "from bs4 import BeautifulSoup\n",
    "import shutil\n",
    "\n",
    "PATH_DATA = \"D://MyPersonalTraining//BeerApp//data//raw//\""
   ]
  },
  {
   "cell_type": "markdown",
   "metadata": {},
   "source": [
    "## Scraping wikiliq"
   ]
  },
  {
   "cell_type": "code",
   "execution_count": 21,
   "metadata": {},
   "outputs": [],
   "source": [
    "# download wikipage\n",
    "BEER_PAGE = \"https://wikiliq.org/best-beer/\"\n",
    "result = requests.get(BEER_PAGE)\n",
    "\n",
    "if result.status_code == 200:\n",
    "    soup = BeautifulSoup(result.content, \"html.parser\")\n",
    "    \n",
    "generator = soup.find_all('img',{'class':'preview'})\n",
    "\n",
    "for beer in generator:\n",
    "    r = requests.get(beer[\"src\"], stream=True)\n",
    "    if r.status_code == 200:\n",
    "        with open(PATH_DATA + beer[\"alt\"]+\".jpg\", 'wb') as f: \n",
    "            r.raw.decode_content = True\n",
    "            shutil.copyfileobj(r.raw, f)"
   ]
  },
  {
   "cell_type": "markdown",
   "metadata": {},
   "source": [
    "## Scraping wikiliq"
   ]
  },
  {
   "cell_type": "code",
   "execution_count": null,
   "metadata": {},
   "outputs": [],
   "source": [
    "# download wikipage\n",
    "BEER_PAGE = \"https://wikiliq.org/best-beer/\"\n",
    "result = requests.get(BEER_PAGE)\n",
    "\n",
    "if result.status_code == 200:\n",
    "    soup = BeautifulSoup(result.content, \"html.parser\")\n",
    "    \n",
    "generator = soup.find_all('img',{'class':'preview'})\n",
    "\n",
    "for beer in generator:\n",
    "    r = requests.get(beer[\"src\"], stream=True)\n",
    "    if r.status_code == 200:\n",
    "        with open(PATH_DATA + beer[\"alt\"]+\".jpg\", 'wb') as f: \n",
    "            r.raw.decode_content = True\n",
    "            shutil.copyfileobj(r.raw, f)"
   ]
  },
  {
   "cell_type": "code",
   "execution_count": 1,
   "metadata": {},
   "outputs": [
    {
     "data": {
      "text/plain": [
       "'C:\\\\Users\\\\rmeut\\\\anaconda3\\\\envs\\\\DNN;C:\\\\Users\\\\rmeut\\\\anaconda3\\\\envs\\\\DNN\\\\Library\\\\mingw-w64\\\\bin;C:\\\\Users\\\\rmeut\\\\anaconda3\\\\envs\\\\DNN\\\\Library\\\\usr\\\\bin;C:\\\\Users\\\\rmeut\\\\anaconda3\\\\envs\\\\DNN\\\\Library\\\\bin;C:\\\\Users\\\\rmeut\\\\anaconda3\\\\envs\\\\DNN\\\\Scripts;C:\\\\Users\\\\rmeut\\\\anaconda3\\\\envs\\\\DNN\\\\bin;C:\\\\Users\\\\rmeut\\\\anaconda3\\\\condabin;C:\\\\Program Files\\\\Common Files\\\\Oracle\\\\Java\\\\javapath;C:\\\\Program Files\\\\NVIDIA GPU Computing Toolkit\\\\CUDA\\\\v11.5\\\\bin;C:\\\\Program Files\\\\NVIDIA GPU Computing Toolkit\\\\CUDA\\\\v11.5\\\\libnvvp;C:\\\\WINDOWS\\\\system32;C:\\\\WINDOWS;C:\\\\WINDOWS\\\\System32\\\\Wbem;C:\\\\WINDOWS\\\\System32\\\\WindowsPowerShell\\\\v1.0;C:\\\\WINDOWS\\\\System32\\\\OpenSSH;C:\\\\Program Files\\\\Amazon\\\\AWSCLI\\\\bin\\\\aws.exe;C:\\\\Program Files (x86)\\\\NVIDIA Corporation\\\\PhysX\\\\Common;C:\\\\Anaconda3\\\\Library\\\\bin;C:\\\\Anaconda3;C:\\\\Anaconda3\\\\Scripts;C:\\\\Strawberry\\\\perl\\\\bin;C:\\\\Strawberry\\\\perl\\\\site\\\\bin;C:\\\\Strawberry\\\\c\\\\bin;C:\\\\Program Files\\\\Amazon\\\\AWSCLIV2;C:\\\\Program Files\\\\Git\\\\cmd;C:\\\\Program Files\\\\Docker\\\\Docker\\\\resources\\\\bin;C:\\\\ProgramData\\\\DockerDesktop\\\\version-bin;C:\\\\Program Files\\\\NVIDIA Corporation\\\\Nsight Compute 2021.3.1;C:\\\\Program Files\\\\NVIDIA Corporation\\\\NVIDIA NvDLISR;C:\\\\Users\\\\rmeut\\\\AppData\\\\Local\\\\Microsoft\\\\WindowsApps;C:\\\\Users\\\\rmeut\\\\AppData\\\\Local\\\\GitHubDesktop\\\\bin;C:\\\\Program Files\\\\Amazon\\\\AWSCLI\\\\bin\\\\aws.exe;C:\\\\Anaconda3;C:\\\\Anaconda3\\\\Scripts;C:\\\\Anaconda3\\\\Library\\\\bin;C:\\\\Users\\\\rmeut\\\\AppData\\\\Local\\\\Programs\\\\MiKTeX\\\\miktex\\\\bin\\\\x64;C:\\\\Users\\\\rmeut\\\\AppData\\\\Local\\\\Programs\\\\Microsoft VS Code\\\\bin;C:\\\\Program Files\\\\heroku\\\\bin;C:\\\\Spark\\\\spark-3.0.3-bin-hadoop3.2\\\\bin;C:\\\\Spark\\\\spark-3.0.3-bin-hadoop3.2\\\\bin;C:\\\\Program Files\\\\NVIDIA GPU Computing Toolkit\\\\zlib123dllx64\\\\dll_x64;.'"
      ]
     },
     "execution_count": 1,
     "metadata": {},
     "output_type": "execute_result"
    }
   ],
   "source": [
    "import os\n",
    "os.environ[\"PATH\"]"
   ]
  }
 ],
 "metadata": {
  "interpreter": {
   "hash": "5f8e6257d04dffa78ebb0e2c025d89cab47725b59a1ad637bf9f272b3e6ae91f"
  },
  "kernelspec": {
   "display_name": "Python 3.9.10 ('DNN')",
   "language": "python",
   "name": "python3"
  },
  "language_info": {
   "codemirror_mode": {
    "name": "ipython",
    "version": 3
   },
   "file_extension": ".py",
   "mimetype": "text/x-python",
   "name": "python",
   "nbconvert_exporter": "python",
   "pygments_lexer": "ipython3",
   "version": "3.9.10"
  },
  "orig_nbformat": 4
 },
 "nbformat": 4,
 "nbformat_minor": 2
}
