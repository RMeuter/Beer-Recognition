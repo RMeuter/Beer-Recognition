{
 "cells": [
  {
   "cell_type": "code",
   "execution_count": 17,
   "metadata": {},
   "outputs": [
    {
     "data": {
      "text/plain": [
       "'D:\\\\MyPersonalTraining\\\\BeerApp\\\\scraping_beer\\\\data'"
      ]
     },
     "execution_count": 17,
     "metadata": {},
     "output_type": "execute_result"
    }
   ],
   "source": [
    "import os\n",
    "from glob import glob\n",
    "\n",
    "liMeta    = glob(\"./*/*.json\")\n",
    "liPicture = glob(\"./*/*/*\")\n",
    "os.chdir('D:\\MyPersonalTraining\\BeerApp\\scraping_beer\\data')\n",
    "os.getcwd()"
   ]
  },
  {
   "cell_type": "code",
   "execution_count": 35,
   "metadata": {},
   "outputs": [],
   "source": [
    "import pandas as pd\n",
    "import json\n",
    "\n",
    "# df = json.load()\n",
    "# pd.json_normalize(df)\n"
   ]
  },
  {
   "cell_type": "code",
   "execution_count": 46,
   "metadata": {},
   "outputs": [
    {
     "ename": "KeyError",
     "evalue": "\"Key 'tag' not found. To replace missing values of 'tag' with np.nan, pass in errors='ignore'\"",
     "output_type": "error",
     "traceback": [
      "\u001b[1;31m---------------------------------------------------------------------------\u001b[0m",
      "\u001b[1;31mKeyError\u001b[0m                                  Traceback (most recent call last)",
      "File \u001b[1;32m~\\anaconda3\\envs\\DNN\\lib\\site-packages\\pandas\\io\\json\\_normalize.py:394\u001b[0m, in \u001b[0;36m_json_normalize.<locals>._pull_field\u001b[1;34m(js, spec, extract_record)\u001b[0m\n\u001b[0;32m    <a href='file:///~/anaconda3/envs/DNN/lib/site-packages/pandas/io/json/_normalize.py?line=392'>393</a>\u001b[0m             \u001b[39mraise\u001b[39;00m \u001b[39mKeyError\u001b[39;00m(field)\n\u001b[1;32m--> <a href='file:///~/anaconda3/envs/DNN/lib/site-packages/pandas/io/json/_normalize.py?line=393'>394</a>\u001b[0m         result \u001b[39m=\u001b[39m result[field]\n\u001b[0;32m    <a href='file:///~/anaconda3/envs/DNN/lib/site-packages/pandas/io/json/_normalize.py?line=394'>395</a>\u001b[0m \u001b[39melse\u001b[39;00m:\n",
      "\u001b[1;31mKeyError\u001b[0m: 'tag'",
      "\nThe above exception was the direct cause of the following exception:\n",
      "\u001b[1;31mKeyError\u001b[0m                                  Traceback (most recent call last)",
      "\u001b[1;32md:\\MyPersonalTraining\\BeerApp\\src\\ml\\notebooks\\View.ipynb Cell 3'\u001b[0m in \u001b[0;36m<module>\u001b[1;34m\u001b[0m\n\u001b[0;32m      <a href='vscode-notebook-cell:/d%3A/MyPersonalTraining/BeerApp/src/ml/notebooks/View.ipynb#ch0000002?line=3'>4</a>\u001b[0m     df \u001b[39m=\u001b[39m json\u001b[39m.\u001b[39mloads(doc)\n\u001b[0;32m      <a href='vscode-notebook-cell:/d%3A/MyPersonalTraining/BeerApp/src/ml/notebooks/View.ipynb#ch0000002?line=4'>5</a>\u001b[0m     \u001b[39mreturn\u001b[39;00m pd\u001b[39m.\u001b[39mjson_normalize(df, meta\u001b[39m=\u001b[39m[\u001b[39m\"\u001b[39m\u001b[39mimage_name\u001b[39m\u001b[39m\"\u001b[39m, \u001b[39m\"\u001b[39m\u001b[39mimage_urls\u001b[39m\u001b[39m\"\u001b[39m, \u001b[39m\"\u001b[39m\u001b[39mprice\u001b[39m\u001b[39m\"\u001b[39m, \u001b[39m\"\u001b[39m\u001b[39mtag\u001b[39m\u001b[39m\"\u001b[39m], record_path\u001b[39m=\u001b[39m[\u001b[39m\"\u001b[39m\u001b[39mimages\u001b[39m\u001b[39m\"\u001b[39m])\n\u001b[1;32m----> <a href='vscode-notebook-cell:/d%3A/MyPersonalTraining/BeerApp/src/ml/notebooks/View.ipynb#ch0000002?line=5'>6</a>\u001b[0m dfs \u001b[39m=\u001b[39m [f(p) \u001b[39mfor\u001b[39;00m p \u001b[39min\u001b[39;00m liMeta]\n",
      "\u001b[1;32md:\\MyPersonalTraining\\BeerApp\\src\\ml\\notebooks\\View.ipynb Cell 3'\u001b[0m in \u001b[0;36m<listcomp>\u001b[1;34m(.0)\u001b[0m\n\u001b[0;32m      <a href='vscode-notebook-cell:/d%3A/MyPersonalTraining/BeerApp/src/ml/notebooks/View.ipynb#ch0000002?line=3'>4</a>\u001b[0m     df \u001b[39m=\u001b[39m json\u001b[39m.\u001b[39mloads(doc)\n\u001b[0;32m      <a href='vscode-notebook-cell:/d%3A/MyPersonalTraining/BeerApp/src/ml/notebooks/View.ipynb#ch0000002?line=4'>5</a>\u001b[0m     \u001b[39mreturn\u001b[39;00m pd\u001b[39m.\u001b[39mjson_normalize(df, meta\u001b[39m=\u001b[39m[\u001b[39m\"\u001b[39m\u001b[39mimage_name\u001b[39m\u001b[39m\"\u001b[39m, \u001b[39m\"\u001b[39m\u001b[39mimage_urls\u001b[39m\u001b[39m\"\u001b[39m, \u001b[39m\"\u001b[39m\u001b[39mprice\u001b[39m\u001b[39m\"\u001b[39m, \u001b[39m\"\u001b[39m\u001b[39mtag\u001b[39m\u001b[39m\"\u001b[39m], record_path\u001b[39m=\u001b[39m[\u001b[39m\"\u001b[39m\u001b[39mimages\u001b[39m\u001b[39m\"\u001b[39m])\n\u001b[1;32m----> <a href='vscode-notebook-cell:/d%3A/MyPersonalTraining/BeerApp/src/ml/notebooks/View.ipynb#ch0000002?line=5'>6</a>\u001b[0m dfs \u001b[39m=\u001b[39m [f(p) \u001b[39mfor\u001b[39;00m p \u001b[39min\u001b[39;00m liMeta]\n",
      "\u001b[1;32md:\\MyPersonalTraining\\BeerApp\\src\\ml\\notebooks\\View.ipynb Cell 3'\u001b[0m in \u001b[0;36mf\u001b[1;34m(path)\u001b[0m\n\u001b[0;32m      <a href='vscode-notebook-cell:/d%3A/MyPersonalTraining/BeerApp/src/ml/notebooks/View.ipynb#ch0000002?line=2'>3</a>\u001b[0m     doc \u001b[39m=\u001b[39m f\u001b[39m.\u001b[39mread()\n\u001b[0;32m      <a href='vscode-notebook-cell:/d%3A/MyPersonalTraining/BeerApp/src/ml/notebooks/View.ipynb#ch0000002?line=3'>4</a>\u001b[0m df \u001b[39m=\u001b[39m json\u001b[39m.\u001b[39mloads(doc)\n\u001b[1;32m----> <a href='vscode-notebook-cell:/d%3A/MyPersonalTraining/BeerApp/src/ml/notebooks/View.ipynb#ch0000002?line=4'>5</a>\u001b[0m \u001b[39mreturn\u001b[39;00m pd\u001b[39m.\u001b[39;49mjson_normalize(df, meta\u001b[39m=\u001b[39;49m[\u001b[39m\"\u001b[39;49m\u001b[39mimage_name\u001b[39;49m\u001b[39m\"\u001b[39;49m, \u001b[39m\"\u001b[39;49m\u001b[39mimage_urls\u001b[39;49m\u001b[39m\"\u001b[39;49m, \u001b[39m\"\u001b[39;49m\u001b[39mprice\u001b[39;49m\u001b[39m\"\u001b[39;49m, \u001b[39m\"\u001b[39;49m\u001b[39mtag\u001b[39;49m\u001b[39m\"\u001b[39;49m], record_path\u001b[39m=\u001b[39;49m[\u001b[39m\"\u001b[39;49m\u001b[39mimages\u001b[39;49m\u001b[39m\"\u001b[39;49m])\n",
      "File \u001b[1;32m~\\anaconda3\\envs\\DNN\\lib\\site-packages\\pandas\\io\\json\\_normalize.py:515\u001b[0m, in \u001b[0;36m_json_normalize\u001b[1;34m(data, record_path, meta, meta_prefix, record_prefix, errors, sep, max_level)\u001b[0m\n\u001b[0;32m    <a href='file:///~/anaconda3/envs/DNN/lib/site-packages/pandas/io/json/_normalize.py?line=511'>512</a>\u001b[0m                 meta_vals[key]\u001b[39m.\u001b[39mappend(meta_val)\n\u001b[0;32m    <a href='file:///~/anaconda3/envs/DNN/lib/site-packages/pandas/io/json/_normalize.py?line=512'>513</a>\u001b[0m             records\u001b[39m.\u001b[39mextend(recs)\n\u001b[1;32m--> <a href='file:///~/anaconda3/envs/DNN/lib/site-packages/pandas/io/json/_normalize.py?line=514'>515</a>\u001b[0m _recursive_extract(data, record_path, {}, level\u001b[39m=\u001b[39;49m\u001b[39m0\u001b[39;49m)\n\u001b[0;32m    <a href='file:///~/anaconda3/envs/DNN/lib/site-packages/pandas/io/json/_normalize.py?line=516'>517</a>\u001b[0m result \u001b[39m=\u001b[39m DataFrame(records)\n\u001b[0;32m    <a href='file:///~/anaconda3/envs/DNN/lib/site-packages/pandas/io/json/_normalize.py?line=518'>519</a>\u001b[0m \u001b[39mif\u001b[39;00m record_prefix \u001b[39mis\u001b[39;00m \u001b[39mnot\u001b[39;00m \u001b[39mNone\u001b[39;00m:\n\u001b[0;32m    <a href='file:///~/anaconda3/envs/DNN/lib/site-packages/pandas/io/json/_normalize.py?line=519'>520</a>\u001b[0m     \u001b[39m# Incompatible types in assignment (expression has type \"Optional[DataFrame]\",\u001b[39;00m\n\u001b[0;32m    <a href='file:///~/anaconda3/envs/DNN/lib/site-packages/pandas/io/json/_normalize.py?line=520'>521</a>\u001b[0m     \u001b[39m# variable has type \"DataFrame\")\u001b[39;00m\n",
      "File \u001b[1;32m~\\anaconda3\\envs\\DNN\\lib\\site-packages\\pandas\\io\\json\\_normalize.py:511\u001b[0m, in \u001b[0;36m_json_normalize.<locals>._recursive_extract\u001b[1;34m(data, path, seen_meta, level)\u001b[0m\n\u001b[0;32m    <a href='file:///~/anaconda3/envs/DNN/lib/site-packages/pandas/io/json/_normalize.py?line=508'>509</a>\u001b[0m         meta_val \u001b[39m=\u001b[39m seen_meta[key]\n\u001b[0;32m    <a href='file:///~/anaconda3/envs/DNN/lib/site-packages/pandas/io/json/_normalize.py?line=509'>510</a>\u001b[0m     \u001b[39melse\u001b[39;00m:\n\u001b[1;32m--> <a href='file:///~/anaconda3/envs/DNN/lib/site-packages/pandas/io/json/_normalize.py?line=510'>511</a>\u001b[0m         meta_val \u001b[39m=\u001b[39m _pull_field(obj, val[level:])\n\u001b[0;32m    <a href='file:///~/anaconda3/envs/DNN/lib/site-packages/pandas/io/json/_normalize.py?line=511'>512</a>\u001b[0m     meta_vals[key]\u001b[39m.\u001b[39mappend(meta_val)\n\u001b[0;32m    <a href='file:///~/anaconda3/envs/DNN/lib/site-packages/pandas/io/json/_normalize.py?line=512'>513</a>\u001b[0m records\u001b[39m.\u001b[39mextend(recs)\n",
      "File \u001b[1;32m~\\anaconda3\\envs\\DNN\\lib\\site-packages\\pandas\\io\\json\\_normalize.py:406\u001b[0m, in \u001b[0;36m_json_normalize.<locals>._pull_field\u001b[1;34m(js, spec, extract_record)\u001b[0m\n\u001b[0;32m    <a href='file:///~/anaconda3/envs/DNN/lib/site-packages/pandas/io/json/_normalize.py?line=403'>404</a>\u001b[0m         \u001b[39mreturn\u001b[39;00m np\u001b[39m.\u001b[39mnan\n\u001b[0;32m    <a href='file:///~/anaconda3/envs/DNN/lib/site-packages/pandas/io/json/_normalize.py?line=404'>405</a>\u001b[0m     \u001b[39melse\u001b[39;00m:\n\u001b[1;32m--> <a href='file:///~/anaconda3/envs/DNN/lib/site-packages/pandas/io/json/_normalize.py?line=405'>406</a>\u001b[0m         \u001b[39mraise\u001b[39;00m \u001b[39mKeyError\u001b[39;00m(\n\u001b[0;32m    <a href='file:///~/anaconda3/envs/DNN/lib/site-packages/pandas/io/json/_normalize.py?line=406'>407</a>\u001b[0m             \u001b[39mf\u001b[39m\u001b[39m\"\u001b[39m\u001b[39mKey \u001b[39m\u001b[39m{\u001b[39;00me\u001b[39m}\u001b[39;00m\u001b[39m not found. To replace missing values of \u001b[39m\u001b[39m{\u001b[39;00me\u001b[39m}\u001b[39;00m\u001b[39m with \u001b[39m\u001b[39m\"\u001b[39m\n\u001b[0;32m    <a href='file:///~/anaconda3/envs/DNN/lib/site-packages/pandas/io/json/_normalize.py?line=407'>408</a>\u001b[0m             \u001b[39mf\u001b[39m\u001b[39m\"\u001b[39m\u001b[39mnp.nan, pass in errors=\u001b[39m\u001b[39m'\u001b[39m\u001b[39mignore\u001b[39m\u001b[39m'\u001b[39m\u001b[39m\"\u001b[39m\n\u001b[0;32m    <a href='file:///~/anaconda3/envs/DNN/lib/site-packages/pandas/io/json/_normalize.py?line=408'>409</a>\u001b[0m         ) \u001b[39mfrom\u001b[39;00m \u001b[39me\u001b[39;00m\n\u001b[0;32m    <a href='file:///~/anaconda3/envs/DNN/lib/site-packages/pandas/io/json/_normalize.py?line=410'>411</a>\u001b[0m \u001b[39mreturn\u001b[39;00m result\n",
      "\u001b[1;31mKeyError\u001b[0m: \"Key 'tag' not found. To replace missing values of 'tag' with np.nan, pass in errors='ignore'\""
     ]
    }
   ],
   "source": [
    "def f(path):\n",
    "    with open(path, encoding=\"utf-8\") as f:\n",
    "        doc = f.read()\n",
    "    df = json.loads(doc)\n",
    "    return pd.json_normalize(df, meta=[\"image_name\", \"image_urls\", \"price\", \"tag\"], record_path=[\"images\"])\n",
    "dfs = [f(p) for p in liMeta]"
   ]
  }
 ],
 "metadata": {
  "interpreter": {
   "hash": "5f8e6257d04dffa78ebb0e2c025d89cab47725b59a1ad637bf9f272b3e6ae91f"
  },
  "kernelspec": {
   "display_name": "Python 3.9.10 ('DNN')",
   "language": "python",
   "name": "python3"
  },
  "language_info": {
   "codemirror_mode": {
    "name": "ipython",
    "version": 3
   },
   "file_extension": ".py",
   "mimetype": "text/x-python",
   "name": "python",
   "nbconvert_exporter": "python",
   "pygments_lexer": "ipython3",
   "version": "3.9.10"
  },
  "orig_nbformat": 4
 },
 "nbformat": 4,
 "nbformat_minor": 2
}
